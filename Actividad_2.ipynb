{
  "nbformat": 4,
  "nbformat_minor": 0,
  "metadata": {
    "colab": {
      "provenance": []
    },
    "kernelspec": {
      "name": "python3",
      "display_name": "Python 3"
    },
    "language_info": {
      "name": "python"
    }
  },
  "cells": [
    {
      "cell_type": "code",
      "execution_count": 1,
      "metadata": {
        "id": "iBVrifgLouDA"
      },
      "outputs": [],
      "source": [
        "import pandas as pd"
      ]
    },
    {
      "cell_type": "code",
      "source": [
        "df = pd.read_csv('avocado_full.csv')"
      ],
      "metadata": {
        "id": "WnmL-M_soy92"
      },
      "execution_count": 23,
      "outputs": []
    },
    {
      "cell_type": "markdown",
      "source": [
        "Produccion total, desvación estandar, promedio y porcentaje de bolsas en Nueva York"
      ],
      "metadata": {
        "id": "LaavIaOQ2TdW"
      }
    },
    {
      "cell_type": "code",
      "source": [
        "NY = df.query(\"region == 'NewYork'\")\n",
        "produccion_NY = NY['Total Bags'].sum()\n",
        "promedio_NY = NY['Total Bags'].mean()\n",
        "desviacion_NY = NY['Total Bags'].std()\n",
        "small_NY = (NY['Small Bags'].sum() / produccion_NY*100)\n",
        "large_NY = (NY['Large Bags'].sum() / produccion_NY*100)\n",
        "xlarge_NY = (NY['XLarge Bags'].sum() / produccion_NY*100)\n",
        "print(\"Producción Total: \", produccion_NY)\n",
        "print(\"Promedio: \", promedio_NY)\n",
        "print(\"Desviación estandar: \", desviacion_NY)\n",
        "print(\"Porcentaje Small Bags: \", small_NY)\n",
        "print(\"Porcentaje Large Bags: \", large_NY)\n",
        "print(\"Porcentaje XLarge Bags: \", xlarge_NY)"
      ],
      "metadata": {
        "colab": {
          "base_uri": "https://localhost:8080/"
        },
        "id": "W5JWwjcqy3Cx",
        "outputId": "127c7857-12cc-4976-fdfa-a8cf7b64b7ab"
      },
      "execution_count": 20,
      "outputs": [
        {
          "output_type": "stream",
          "name": "stdout",
          "text": [
            "Producción Total:  67994156.75999999\n",
            "Promedio:  201166.144260355\n",
            "Desviación estandar:  197491.93271625863\n",
            "Porcentaje Small Bags:  85.89220792330921\n",
            "Porcentaje Large Bags:  13.579104470094174\n",
            "Porcentaje XLarge Bags:  0.5286890773112369\n"
          ]
        }
      ]
    },
    {
      "cell_type": "markdown",
      "source": [
        "Produccion total, desvación estandar, promedio y porcentaje de bolsas en n California"
      ],
      "metadata": {
        "id": "yEuPQhZI2Yk7"
      }
    },
    {
      "cell_type": "code",
      "source": [
        "CAL = df.query(\"region == 'California'\")\n",
        "produccion_cal = CAL['Total Bags'].sum()\n",
        "promedio_cal = CAL['Total Bags'].mean()\n",
        "desviacion_cal = CAL['Total Bags'].std()\n",
        "small_cal = (CAL['Small Bags'].sum() / produccion_cal*100)\n",
        "large_cal = (CAL['Large Bags'].sum() / produccion_cal*100)\n",
        "xlarge_cal = (CAL['XLarge Bags'].sum() / produccion_cal*100)\n",
        "print(\"Producción Total: \", produccion_cal)\n",
        "print(\"Promedio: \", promedio_cal)\n",
        "print(\"Desviación estandar: \", desviacion_cal)\n",
        "print(\"Porcentaje Small Bags: \", small_cal)\n",
        "print(\"Porcentaje Large Bags: \", large_cal)\n",
        "print(\"Porcentaje XLarge Bags: \", xlarge_cal)"
      ],
      "metadata": {
        "colab": {
          "base_uri": "https://localhost:8080/"
        },
        "id": "lTE1lsI72gXW",
        "outputId": "f70f3843-0cbd-479e-8e9b-253a363ab054"
      },
      "execution_count": 21,
      "outputs": [
        {
          "output_type": "stream",
          "name": "stdout",
          "text": [
            "Producción Total:  246682193.70999998\n",
            "Promedio:  729828.9754733727\n",
            "Desviación estandar:  813755.2335129493\n",
            "Porcentaje Small Bags:  92.8715917612309\n",
            "Porcentaje Large Bags:  4.991011197376464\n",
            "Porcentaje XLarge Bags:  2.13739704139264\n"
          ]
        }
      ]
    },
    {
      "cell_type": "markdown",
      "source": [
        "Produccion total, desvación estandar, promedio y porcentaje de bolsas en Charlotte"
      ],
      "metadata": {
        "id": "rH9I8oRj283P"
      }
    },
    {
      "cell_type": "code",
      "source": [
        "CHAR = df.query(\"region == 'Charlotte'\")\n",
        "produccion_char = CHAR['Total Bags'].sum()\n",
        "promedio_char = CHAR['Total Bags'].mean()\n",
        "desviacion_char = CHAR['Total Bags'].std()\n",
        "small_char = (CHAR['Small Bags'].sum() / produccion_char*100)\n",
        "large_char = (CHAR['Large Bags'].sum() / produccion_char*100)\n",
        "xlarge_char = (CHAR['XLarge Bags'].sum() / produccion_char*100)\n",
        "print(\"Producción Total: \", produccion_char)\n",
        "print(\"Promedio: \", promedio_char)\n",
        "print(\"Desviación estandar: \", desviacion_char)\n",
        "print(\"Porcentaje Small Bags: \", small_char)\n",
        "print(\"Porcentaje Large Bags: \", large_char)\n",
        "print(\"Porcentaje XLarge Bags: \", xlarge_char)"
      ],
      "metadata": {
        "colab": {
          "base_uri": "https://localhost:8080/"
        },
        "id": "PkzJW3u43c7k",
        "outputId": "2fe74e16-b730-4ab3-ed33-1ec330fd4a0d"
      },
      "execution_count": 22,
      "outputs": [
        {
          "output_type": "stream",
          "name": "stdout",
          "text": [
            "Producción Total:  11697942.41\n",
            "Promedio:  34609.297071005916\n",
            "Desviación estandar:  37032.501145198745\n",
            "Porcentaje Small Bags:  90.98909190133378\n",
            "Porcentaje Large Bags:  8.415900980658018\n",
            "Porcentaje XLarge Bags:  0.5950071180082002\n"
          ]
        }
      ]
    }
  ]
}